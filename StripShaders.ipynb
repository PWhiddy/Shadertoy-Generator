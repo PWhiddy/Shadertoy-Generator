{
 "cells": [
  {
   "cell_type": "code",
   "execution_count": 1,
   "metadata": {},
   "outputs": [],
   "source": [
    "import os\n",
    "import numpy as np\n",
    "import matplotlib.pyplot as plt\n",
    "import json\n",
    "import datetime"
   ]
  },
  {
   "cell_type": "code",
   "execution_count": 2,
   "metadata": {},
   "outputs": [],
   "source": [
    "files = os.listdir(\"./allshaders\")"
   ]
  },
  {
   "cell_type": "code",
   "execution_count": 3,
   "metadata": {},
   "outputs": [],
   "source": [
    "def get_date(shader):\n",
    "    return datetime.datetime.fromtimestamp(int(shader['Shader']['info']['date']))"
   ]
  },
  {
   "cell_type": "code",
   "execution_count": 4,
   "metadata": {},
   "outputs": [],
   "source": [
    "def extract_single_pass_shader(shader):\n",
    "    passes = shader['Shader']['renderpass']\n",
    "    if (len(passes)>1):\n",
    "        return None\n",
    "    else:\n",
    "        return passes[0]['code']"
   ]
  },
  {
   "cell_type": "code",
   "execution_count": 7,
   "metadata": {},
   "outputs": [],
   "source": [
    "shaders_json = []\n",
    "for f in files:\n",
    "    with open(\"./allshaders/\"+f) as fj:\n",
    "        shaders_json.append(json.load(fj))\n",
    "    #print(stats.st_size)"
   ]
  },
  {
   "cell_type": "code",
   "execution_count": 8,
   "metadata": {},
   "outputs": [],
   "source": [
    "stripped = []\n",
    "for jsn in shaders_json:\n",
    "    cur = extract_single_pass_shader(jsn)\n",
    "    if cur is not None:\n",
    "        stripped.append(cur)\n"
   ]
  },
  {
   "cell_type": "code",
   "execution_count": 10,
   "metadata": {},
   "outputs": [],
   "source": [
    "stripped_count = len(stripped)\n",
    "for i in range(stripped_count):\n",
    "    with open('./rawshaders/s'+str(i)+'.glsl', 'w') as f:\n",
    "        f.write(stripped[i])"
   ]
  },
  {
   "cell_type": "code",
   "execution_count": null,
   "metadata": {},
   "outputs": [],
   "source": []
  }
 ],
 "metadata": {
  "kernelspec": {
   "display_name": "Python 3",
   "language": "python",
   "name": "python3"
  },
  "language_info": {
   "codemirror_mode": {
    "name": "ipython",
    "version": 3
   },
   "file_extension": ".py",
   "mimetype": "text/x-python",
   "name": "python",
   "nbconvert_exporter": "python",
   "pygments_lexer": "ipython3",
   "version": "3.7.3"
  }
 },
 "nbformat": 4,
 "nbformat_minor": 2
}
